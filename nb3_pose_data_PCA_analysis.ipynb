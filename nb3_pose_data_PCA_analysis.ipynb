{
 "cells": [
  {
   "cell_type": "markdown",
   "id": "4a74719e-e6bb-46ac-8b62-52013ed40113",
   "metadata": {},
   "source": [
    "# Notebook 3\n",
    "# PCA Analyses\n",
    "\n",
    "The aim is to see what the principle components of the data set are\n"
   ]
  },
  {
   "cell_type": "markdown",
   "id": "c9eb84d1-441e-4764-823b-7cec5b31b216",
   "metadata": {},
   "source": [
    "<div>\n",
    "<img src=\"pose_landmarks_index.png\" width=\"400\"/>\n",
    "</div>"
   ]
  },
  {
   "cell_type": "code",
   "execution_count": null,
   "id": "94ba225a-1ffc-4d2f-9536-d3c19434afc3",
   "metadata": {},
   "outputs": [],
   "source": [
    "!pip install mediapipe"
   ]
  },
  {
   "cell_type": "code",
   "execution_count": 1,
   "id": "eed53755-d39d-410b-b3b9-3fc00be2a2bb",
   "metadata": {
    "tags": []
   },
   "outputs": [],
   "source": [
    "import numpy as np\n",
    "#import mediapipe as mp\n",
    "import random\n",
    "import math\n",
    "import pandas as pd\n",
    "import seaborn as sns\n",
    "import matplotlib.pyplot as plt\n",
    "import tqdm\n",
    "import json\n",
    "\n",
    "from pathlib import Path\n",
    "\n",
    "import pose_ml  as pml"
   ]
  },
  {
   "cell_type": "code",
   "execution_count": 4,
   "id": "2343e0f5-4af1-424b-ac71-441a4b51eaf0",
   "metadata": {
    "tags": []
   },
   "outputs": [
    {
     "name": "stdout",
     "output_type": "stream",
     "text": [
      "Features: \n",
      "(0, 2) nose, left eye\n",
      "(0, 5) nose, right eye\n",
      "(0, 7) nose, left ear\n",
      "(0, 8) nose, right ear\n",
      "(0, 9) nose, left mouth\n",
      "(0, 10) nose, right mouth\n",
      "(0, 11) nose, left shoulder\n",
      "(0, 12) nose, right shoulder\n",
      "(2, 5) left eye, right eye\n",
      "(2, 7) left eye, left ear\n",
      "(5, 8) right eye, right ear\n",
      "(7, 8) left ear, right ear\n",
      "(7, 9) left ear, left mouth\n",
      "(7, 11) left ear, left shoulder\n",
      "(8, 10) right ear, right mouth\n",
      "(8, 12) right ear, right shoulder\n",
      "(9, 10) left mouth, right mouth\n",
      "(9, 11) left mouth, left shoulder\n",
      "(10, 12) right mouth, right shoulder\n",
      "(11, 12) left shoulder, right shoulder\n",
      "\n",
      "Actions: \n",
      "C MIDDEN\n",
      "TL LINKS BOVEN\n",
      "TR RECHTS BOVEN\n",
      "BL LINKS ONDER\n",
      "BR RECHTS ONDER\n"
     ]
    }
   ],
   "source": [
    "#get features\n",
    "features  = pml.FEATURES\n",
    "feature_descriptions = pml.FEATURE_DESCRIPTIONS\n",
    "\n",
    "# get the actions\n",
    "actions = pml.ACTIONS\n",
    "action_descriptions = pml.ACTION_DESCRIPTIONS\n",
    "\n",
    "print(\"Features: \")\n",
    "for key, feature in feature_descriptions.items():\n",
    "    print(key, feature)\n",
    "print(\"\\nActions: \")\n",
    "for key, action in action_descriptions.items():\n",
    "    print(key, action)\n",
    "\n"
   ]
  },
  {
   "cell_type": "markdown",
   "id": "04169e95-ecab-4131-9c4e-7d32d25631f3",
   "metadata": {},
   "source": [
    "### imports and subroutines"
   ]
  },
  {
   "cell_type": "code",
   "execution_count": 5,
   "id": "dea40710-61db-47cb-8212-3942bb5c44be",
   "metadata": {
    "tags": []
   },
   "outputs": [],
   "source": [
    "project_data = Path(r\"./data\")\n",
    "graph_path = Path(r\"./graphs\")\n",
    "model_path = Path(r\"./models\")\n",
    "sns.set(style=\"whitegrid\")\n",
    "color = [\"Blue\", \"Red\", \"Yellow\", \"Green\", \"Grey\"] \n",
    "sns.set_palette(color) \n",
    "img_size = (512, 512)"
   ]
  },
  {
   "cell_type": "code",
   "execution_count": 6,
   "id": "3bee6603-bef2-4fbd-ad8b-daccc3a161a7",
   "metadata": {
    "tags": []
   },
   "outputs": [
    {
     "name": "stdout",
     "output_type": "stream",
     "text": [
      "Number of samples: 15000 and labels 15000\n"
     ]
    }
   ],
   "source": [
    "# Load the data_set\n",
    "persons, samples, labels,  raw_data= pml.read_data(project_data)\n",
    "print(f\"Number of samples: {len(samples)} and labels {len(labels)}\")"
   ]
  },
  {
   "cell_type": "code",
   "execution_count": 7,
   "id": "6202794d-ac85-466f-b0b8-b04c6f219448",
   "metadata": {
    "tags": []
   },
   "outputs": [
    {
     "data": {
      "text/html": [
       "<div>\n",
       "<style scoped>\n",
       "    .dataframe tbody tr th:only-of-type {\n",
       "        vertical-align: middle;\n",
       "    }\n",
       "\n",
       "    .dataframe tbody tr th {\n",
       "        vertical-align: top;\n",
       "    }\n",
       "\n",
       "    .dataframe thead th {\n",
       "        text-align: right;\n",
       "    }\n",
       "</style>\n",
       "<table border=\"1\" class=\"dataframe\">\n",
       "  <thead>\n",
       "    <tr style=\"text-align: right;\">\n",
       "      <th></th>\n",
       "      <th>Data Type</th>\n",
       "      <th>No of Levels</th>\n",
       "      <th>Levels</th>\n",
       "    </tr>\n",
       "  </thead>\n",
       "  <tbody>\n",
       "    <tr>\n",
       "      <th>(0, 2)</th>\n",
       "      <td>float64</td>\n",
       "      <td>15000</td>\n",
       "      <td>[0.03631862 0.03642031 0.03630207 ... 0.049622...</td>\n",
       "    </tr>\n",
       "    <tr>\n",
       "      <th>(0, 5)</th>\n",
       "      <td>float64</td>\n",
       "      <td>15000</td>\n",
       "      <td>[0.03282092 0.03300894 0.03299199 ... 0.033809...</td>\n",
       "    </tr>\n",
       "    <tr>\n",
       "      <th>(0, 7)</th>\n",
       "      <td>float64</td>\n",
       "      <td>15000</td>\n",
       "      <td>[0.03977627 0.03985956 0.03980202 ... 0.067717...</td>\n",
       "    </tr>\n",
       "    <tr>\n",
       "      <th>(0, 8)</th>\n",
       "      <td>float64</td>\n",
       "      <td>15000</td>\n",
       "      <td>[0.03224908 0.03226133 0.03215118 ... 0.024058...</td>\n",
       "    </tr>\n",
       "    <tr>\n",
       "      <th>(0, 9)</th>\n",
       "      <td>float64</td>\n",
       "      <td>15000</td>\n",
       "      <td>[0.04265356 0.04265519 0.04267723 ... 0.039647...</td>\n",
       "    </tr>\n",
       "    <tr>\n",
       "      <th>(0, 10)</th>\n",
       "      <td>float64</td>\n",
       "      <td>15000</td>\n",
       "      <td>[0.04109099 0.0411289  0.04117682 ... 0.035304...</td>\n",
       "    </tr>\n",
       "    <tr>\n",
       "      <th>(0, 11)</th>\n",
       "      <td>float64</td>\n",
       "      <td>15000</td>\n",
       "      <td>[0.21722156 0.21690544 0.21687968 ... 0.238793...</td>\n",
       "    </tr>\n",
       "    <tr>\n",
       "      <th>(0, 12)</th>\n",
       "      <td>float64</td>\n",
       "      <td>15000</td>\n",
       "      <td>[0.22302283 0.22349806 0.22487894 ... 0.199406...</td>\n",
       "    </tr>\n",
       "    <tr>\n",
       "      <th>(2, 5)</th>\n",
       "      <td>float64</td>\n",
       "      <td>15000</td>\n",
       "      <td>[0.04314095 0.04323414 0.04305386 ... 0.034836...</td>\n",
       "    </tr>\n",
       "    <tr>\n",
       "      <th>(2, 7)</th>\n",
       "      <td>float64</td>\n",
       "      <td>15000</td>\n",
       "      <td>[0.02173847 0.02165072 0.02160992 ... 0.037679...</td>\n",
       "    </tr>\n",
       "    <tr>\n",
       "      <th>(5, 8)</th>\n",
       "      <td>float64</td>\n",
       "      <td>15000</td>\n",
       "      <td>[0.02392447 0.02388991 0.02390088 ... 0.009826...</td>\n",
       "    </tr>\n",
       "    <tr>\n",
       "      <th>(7, 8)</th>\n",
       "      <td>float64</td>\n",
       "      <td>15000</td>\n",
       "      <td>[0.07005164 0.0700561  0.06987997 ... 0.065826...</td>\n",
       "    </tr>\n",
       "    <tr>\n",
       "      <th>(7, 9)</th>\n",
       "      <td>float64</td>\n",
       "      <td>15000</td>\n",
       "      <td>[0.05645822 0.05667269 0.0567448  ... 0.077009...</td>\n",
       "    </tr>\n",
       "    <tr>\n",
       "      <th>(7, 11)</th>\n",
       "      <td>float64</td>\n",
       "      <td>15000</td>\n",
       "      <td>[0.2143087  0.21421949 0.21428826 ... 0.238764...</td>\n",
       "    </tr>\n",
       "    <tr>\n",
       "      <th>(8, 10)</th>\n",
       "      <td>float64</td>\n",
       "      <td>15000</td>\n",
       "      <td>[0.04738912 0.04747182 0.04746247 ... 0.058428...</td>\n",
       "    </tr>\n",
       "    <tr>\n",
       "      <th>(8, 12)</th>\n",
       "      <td>float64</td>\n",
       "      <td>15000</td>\n",
       "      <td>[0.21844141 0.2189698  0.22030097 ... 0.220313...</td>\n",
       "    </tr>\n",
       "    <tr>\n",
       "      <th>(9, 10)</th>\n",
       "      <td>float64</td>\n",
       "      <td>15000</td>\n",
       "      <td>[0.0294663  0.02961571 0.02956078 ... 0.024713...</td>\n",
       "    </tr>\n",
       "    <tr>\n",
       "      <th>(9, 11)</th>\n",
       "      <td>float64</td>\n",
       "      <td>15000</td>\n",
       "      <td>[0.17484338 0.17452449 0.17448095 ... 0.199385...</td>\n",
       "    </tr>\n",
       "    <tr>\n",
       "      <th>(10, 12)</th>\n",
       "      <td>float64</td>\n",
       "      <td>15000</td>\n",
       "      <td>[0.18195663 0.18239384 0.18372971 ... 0.164829...</td>\n",
       "    </tr>\n",
       "    <tr>\n",
       "      <th>(11, 12)</th>\n",
       "      <td>float64</td>\n",
       "      <td>15000</td>\n",
       "      <td>[0.18190232 0.18262946 0.18334712 ... 0.202957...</td>\n",
       "    </tr>\n",
       "    <tr>\n",
       "      <th>action_id</th>\n",
       "      <td>int64</td>\n",
       "      <td>5</td>\n",
       "      <td>[0 1 2 3 4]</td>\n",
       "    </tr>\n",
       "    <tr>\n",
       "      <th>action</th>\n",
       "      <td>object</td>\n",
       "      <td>5</td>\n",
       "      <td>['C' 'TL' 'TR' 'BL' 'BR']</td>\n",
       "    </tr>\n",
       "  </tbody>\n",
       "</table>\n",
       "</div>"
      ],
      "text/plain": [
       "          Data Type  No of Levels  \\\n",
       "(0, 2)      float64         15000   \n",
       "(0, 5)      float64         15000   \n",
       "(0, 7)      float64         15000   \n",
       "(0, 8)      float64         15000   \n",
       "(0, 9)      float64         15000   \n",
       "(0, 10)     float64         15000   \n",
       "(0, 11)     float64         15000   \n",
       "(0, 12)     float64         15000   \n",
       "(2, 5)      float64         15000   \n",
       "(2, 7)      float64         15000   \n",
       "(5, 8)      float64         15000   \n",
       "(7, 8)      float64         15000   \n",
       "(7, 9)      float64         15000   \n",
       "(7, 11)     float64         15000   \n",
       "(8, 10)     float64         15000   \n",
       "(8, 12)     float64         15000   \n",
       "(9, 10)     float64         15000   \n",
       "(9, 11)     float64         15000   \n",
       "(10, 12)    float64         15000   \n",
       "(11, 12)    float64         15000   \n",
       "action_id     int64             5   \n",
       "action       object             5   \n",
       "\n",
       "                                                      Levels  \n",
       "(0, 2)     [0.03631862 0.03642031 0.03630207 ... 0.049622...  \n",
       "(0, 5)     [0.03282092 0.03300894 0.03299199 ... 0.033809...  \n",
       "(0, 7)     [0.03977627 0.03985956 0.03980202 ... 0.067717...  \n",
       "(0, 8)     [0.03224908 0.03226133 0.03215118 ... 0.024058...  \n",
       "(0, 9)     [0.04265356 0.04265519 0.04267723 ... 0.039647...  \n",
       "(0, 10)    [0.04109099 0.0411289  0.04117682 ... 0.035304...  \n",
       "(0, 11)    [0.21722156 0.21690544 0.21687968 ... 0.238793...  \n",
       "(0, 12)    [0.22302283 0.22349806 0.22487894 ... 0.199406...  \n",
       "(2, 5)     [0.04314095 0.04323414 0.04305386 ... 0.034836...  \n",
       "(2, 7)     [0.02173847 0.02165072 0.02160992 ... 0.037679...  \n",
       "(5, 8)     [0.02392447 0.02388991 0.02390088 ... 0.009826...  \n",
       "(7, 8)     [0.07005164 0.0700561  0.06987997 ... 0.065826...  \n",
       "(7, 9)     [0.05645822 0.05667269 0.0567448  ... 0.077009...  \n",
       "(7, 11)    [0.2143087  0.21421949 0.21428826 ... 0.238764...  \n",
       "(8, 10)    [0.04738912 0.04747182 0.04746247 ... 0.058428...  \n",
       "(8, 12)    [0.21844141 0.2189698  0.22030097 ... 0.220313...  \n",
       "(9, 10)    [0.0294663  0.02961571 0.02956078 ... 0.024713...  \n",
       "(9, 11)    [0.17484338 0.17452449 0.17448095 ... 0.199385...  \n",
       "(10, 12)   [0.18195663 0.18239384 0.18372971 ... 0.164829...  \n",
       "(11, 12)   [0.18190232 0.18262946 0.18334712 ... 0.202957...  \n",
       "action_id                                        [0 1 2 3 4]  \n",
       "action                             ['C' 'TL' 'TR' 'BL' 'BR']  "
      ]
     },
     "execution_count": 7,
     "metadata": {},
     "output_type": "execute_result"
    }
   ],
   "source": [
    "df = pd.DataFrame(samples, columns = features)\n",
    "df['action_id'] =  labels\n",
    "df['action'] = df['action_id'].map({0: 'C', 1: 'TL', 2: 'TR', 3: 'BL', 4: 'BR'})\n",
    "pml.inspect_data(df)\n"
   ]
  },
  {
   "cell_type": "markdown",
   "id": "d86c311b-24ca-495d-85f7-b86ddcfa2dce",
   "metadata": {},
   "source": [
    "# PCA Analysis"
   ]
  },
  {
   "cell_type": "markdown",
   "id": "79c6e5d0-941c-4bb9-bb50-760b254b1c85",
   "metadata": {},
   "source": [
    "First scale the values to have 0.0 mean and 1.0 sigma:"
   ]
  },
  {
   "cell_type": "code",
   "execution_count": 9,
   "id": "92ae372f-91c4-44d6-a54b-26277e11cb10",
   "metadata": {
    "tags": []
   },
   "outputs": [],
   "source": [
    "for feature in features:\n",
    "    df[feature] = (df[feature]-df[feature].mean())/df[feature].std(ddof=1)"
   ]
  },
  {
   "cell_type": "markdown",
   "id": "b7095826-985a-493e-a78d-20154b0a8b18",
   "metadata": {},
   "source": [
    "Calculate the eigenvectors and eigenvalues"
   ]
  },
  {
   "cell_type": "code",
   "execution_count": 48,
   "id": "c16a54b1-23ca-4b3b-9bbc-5ade7a46209f",
   "metadata": {
    "tags": []
   },
   "outputs": [
    {
     "name": "stdout",
     "output_type": "stream",
     "text": [
      "Eigenvalues:\n",
      " \n",
      "10.507471\n",
      "4.012679\n",
      "3.305507\n",
      "0.952896\n",
      "0.284978\n",
      "0.219658\n",
      "0.202671\n",
      "0.166391\n",
      "0.101310\n",
      "0.072307\n",
      "0.051711\n",
      "0.039880\n",
      "0.030513\n",
      "0.022617\n",
      "0.012862\n",
      "0.011322\n",
      "0.003878\n",
      "0.001255\n",
      "0.000067\n",
      "0.000026\n"
     ]
    }
   ],
   "source": [
    "X = df[features].to_numpy().T\n",
    "\n",
    "mean_vector = df[features].mean()\n",
    "cov_matrix = df[features].cov()\n",
    "var_vector = df[features].var()\n",
    "eigenvalues, eigenvectors  = np.linalg.eig(cov_matrix)\n",
    "\n",
    "print( f\"Eigenvalues:\\n \")\n",
    "for v in eigenvalues:\n",
    "    print( f\"{v:.6f}\")\n",
    "#print( f\"\\nEigenvectors:\\n {eigenvectors}\\n\")\n"
   ]
  },
  {
   "cell_type": "markdown",
   "id": "2790b901-76c9-454c-bdab-a63dbfb2465a",
   "metadata": {},
   "source": [
    "calculate the nr of principle components covering 95% of the variance"
   ]
  },
  {
   "cell_type": "code",
   "execution_count": 49,
   "id": "a96624c5-80d6-45df-be5d-94892ce0828c",
   "metadata": {
    "tags": []
   },
   "outputs": [
    {
     "name": "stdout",
     "output_type": "stream",
     "text": [
      "Total variance:19.999999999999993\n",
      "\n",
      "Explained variance \t Cumulative variance\n",
      "0.525 \t\t\t 0.525\n",
      "0.201 \t\t\t 0.726\n",
      "0.165 \t\t\t 0.891\n",
      "0.048 \t\t\t 0.939\n",
      "0.014 \t\t\t 0.953\n",
      "0.011 \t\t\t 0.964\n",
      "0.010 \t\t\t 0.974\n",
      "0.008 \t\t\t 0.983\n",
      "0.005 \t\t\t 0.988\n",
      "0.004 \t\t\t 0.991\n",
      "0.003 \t\t\t 0.994\n",
      "0.002 \t\t\t 0.996\n",
      "0.002 \t\t\t 0.997\n",
      "0.001 \t\t\t 0.999\n",
      "0.001 \t\t\t 0.999\n",
      "0.001 \t\t\t 1.000\n",
      "0.000 \t\t\t 1.000\n",
      "0.000 \t\t\t 1.000\n",
      "0.000 \t\t\t 1.000\n",
      "0.000 \t\t\t 1.000\n",
      "\n",
      "Nr of components to select at >95%: 5\n"
     ]
    }
   ],
   "source": [
    "# calculate the nr of principle components covering 95% of the variance\n",
    "total_variance = sum(eigenvalues)\n",
    "explained_variance = eigenvalues / total_variance\n",
    "cumulative_explained_variance = np.cumsum(explained_variance)\n",
    "n_components = np.argmax(cumulative_explained_variance >= 0.95) + 1\n",
    "\n",
    "print(f\"Total variance:{total_variance}\")\n",
    "print(\"\\nExplained variance\",\"\\t\",\"Cumulative variance\")\n",
    "for i,j  in zip(explained_variance,cumulative_explained_variance):\n",
    "    print(f\"{i:.3f}\",\"\\t\\t\\t\", f\"{j:.3f}\") #explained_variance)\n",
    "\n",
    "print(f\"\\nNr of components to select at >95%: {n_components}\")\n",
    "\n",
    "\n",
    "sns.plot(total"
   ]
  },
  {
   "cell_type": "code",
   "execution_count": 52,
   "id": "7e0938be-32b1-4dc4-a39d-ad548f7ba828",
   "metadata": {
    "tags": []
   },
   "outputs": [
    {
     "data": {
      "image/png": "[encoded data removed]",
      "text/plain": [
       "<Figure size 1000x600 with 1 Axes>"
      ]
     },
     "metadata": {},
     "output_type": "display_data"
    }
   ],
   "source": [
    "plt.figure(figsize=(10, 6))\n",
    "ax = sns.lineplot(x=np.arange(len(cumulative_explained_variance)), y=cumulative_explained_variance)\n",
    "plt.axvline(x=n_components - 1, color='red', linestyle='--')  # Subtract 1 because n_components is 1-indexed\n",
    "plt.title('Cumulative Explained Variance by Principal Components')\n",
    "plt.xlabel('Number of Principal Components')\n",
    "plt.ylabel('Cumulative Explained Variance')\n",
    "\n",
    "ax.set_xticks(np.arange(len(cumulative_explained_variance)))\n",
    "ax.set_xticklabels(np.arange(1, len(cumulative_explained_variance) + 1))\n",
    "plt.savefig(graph_path / \"cum_explained_var_PCA.png\")\n",
    "plt.show()"
   ]
  },
  {
   "cell_type": "code",
   "execution_count": null,
   "id": "69aa17da-8418-4bbc-848d-b14459786e0a",
   "metadata": {},
   "outputs": [],
   "source": []
  }
 ],
 "metadata": {
  "kernelspec": {
   "display_name": "Python 3 (ipykernel)",
   "language": "python",
   "name": "python3"
  },
  "language_info": {
   "codemirror_mode": {
    "name": "ipython",
    "version": 3
   },
   "file_extension": ".py",
   "mimetype": "text/x-python",
   "name": "python",
   "nbconvert_exporter": "python",
   "pygments_lexer": "ipython3",
   "version": "3.11.4"
  }
 },
 "nbformat": 4,
 "nbformat_minor": 5
}
